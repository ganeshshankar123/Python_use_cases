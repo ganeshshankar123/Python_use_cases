{
 "cells": [
  {
   "cell_type": "code",
   "execution_count": 20,
   "metadata": {},
   "outputs": [],
   "source": [
    "#Section2 is incomplete \n",
    "import requests\n",
    "from bs4 import BeautifulSoup\n",
    "URL='https://www.rottentomatoes.com/top/bestofrt/?year=2020'\n",
    "page = requests.get(URL)\n",
    "\n",
    "soup = BeautifulSoup(page.content, \"html.parser\")\n"
   ]
  },
  {
   "cell_type": "code",
   "execution_count": 17,
   "metadata": {},
   "outputs": [
    {
     "name": "stdout",
     "output_type": "stream",
     "text": [
      "['\\n            One Night in Miami ', '\\n            Portrait of a Lady on Fire (Portrait de la jeune fille en feu) ', '\\n            Minari ', \"\\n            Ma Rainey's Black Bottom \", '\\n            Soul ', '\\n            1917 ', '\\n            The Invisible Man ', '\\n            Never Rarely Sometimes Always ', '\\n            Sound of Metal ', '\\n            Promising Young Woman ', '\\n            Wolfwalkers ', '\\n            Palm Springs ', '\\n            Hamilton ', '\\n            Da 5 Bloods ', '\\n            First Cow ', '\\n            Miss Juneteenth ', '\\n            His House ', '\\n            Collective (Colectiv) ', '\\n            Crip Camp: A Disability Revolution ', '\\n            76 Days ', '\\n            The Trial of the Chicago 7 ', \"\\n            David Byrne's American Utopia \", '\\n            Host ', '\\n            Dick Johnson Is Dead ', '\\n            Possessor: Uncut ', '\\n            The Forty-Year-Old Version ', '\\n            Totally Under Control ', '\\n            Saint Frances ', '\\n            Time ', '\\n            Onward ', '\\n            Blow the Man Down ', '\\n            The Personal History of David Copperfield ', '\\n            The Vast of Night ', '\\n            Welcome to Chechnya ', '\\n            All In: The Fight for Democracy ', '\\n            Mucho Mucho Amor: The Legend of Walter Mercado ', '\\n            The Assistant ', '\\n            Relic ', '\\n            The Truffle Hunters ', '\\n            Athlete A ', '\\n            Corpus Christi (Boze cialo) ', '\\n            Driveways ', '\\n            On the Record ', '\\n            Extra Ordinary ', '\\n            Slay the Dragon ', '\\n            House of Hummingbird (Beolsae) ', '\\n            The Fight ', '\\n            A Secret Love ', '\\n            Coup 53 ', '\\n            Rewind ', '\\n            Coded Bias ', '\\n            Another Round (Druk) ', '\\n            Mayor ', '\\n            Mystify: Michael Hutchence ', '\\n            A Thousand Cuts ', '\\n            The Half of It ', '\\n            Gunda ', '\\n            The Painter and the Thief ', '\\n            City Hall ', '\\n            Anything for Jackson ', '\\n            Vitalina Varela ', '\\n            Beats ', '\\n            Night of the Kings (La Nuit des Rois) ', '\\n            Circus of Books ', '\\n            Boys State ', '\\n            Bacurau (Nighthawk) ', '\\n            Saint Maud ', '\\n            Disclosure ', \"\\n            Why Don't You Just Die! (Papa, sdokhni) \", '\\n            Apples (Mila) ', '\\n            The Swerve ', '\\n            Enola Holmes ', '\\n            La Llorona ', '\\n            The Dissident ', '\\n            Farewell Amor ', '\\n            News of the World ', '\\n            Sweat ', '\\n            Fourteen ', \"\\n            The Go-Go's \", '\\n            Make Up ', '\\n            Fireball: Visitors from Darker Worlds ', '\\n            There Is No Evil (Sheytan vojud nadarad) ', '\\n            The Last Tree ', '\\n            Spontaneous ', '\\n            Rocks ', '\\n            Babyteeth ', '\\n            Assassins ', '\\n            The Human Voice (La Voz Humana) ', '\\n            The Boy Behind the Door ', '\\n            A Shaun the Sheep Movie: Farmageddon ', '\\n            Kajillionaire ', '\\n            Zappa ', '\\n            Slaxx ', '\\n            Just Mercy ', '\\n            Borat: Subsequent Moviefilm ', '\\n            Love and Monsters ', '\\n            Birds of Prey (And the Fantabulous Emancipation of One Harley Quinn) ', '\\n            The White Tiger ', '\\n            Yes, God, Yes ', '\\n            Emma. ']\n"
     ]
    }
   ],
   "source": [
    "#Below code For Column Title\n",
    "import re  # # Regular Expression.\n",
    "\n",
    "title_list=[]\n",
    "for i in soup.findAll(class_='unstyled articleLink'):\n",
    "    movie_name=i.get_text()\n",
    "    if \"2020\"  in movie_name:\n",
    "        movie_title = movie_name.split('(2020)')[0]\n",
    "        title_list.append(movie_title)\n",
    "\n",
    "print(title_list)\n",
    "\n",
    "\n"
   ]
  },
  {
   "cell_type": "code",
   "execution_count": 19,
   "metadata": {},
   "outputs": [
    {
     "name": "stdout",
     "output_type": "stream",
     "text": [
      "['No. of Reviews', '333', '322', '309', '299', '342', '460', '411', '233', '275', '402', '162', '243', '199', '303', '209', '144', '118', '130', '99', '98', '331', '135', '90', '90', '218', '130', '102', '102', '123', '337', '120', '245', '245', '72', '66', '63', '235', '231', '121', '56', '99', '77', '73', '93', '49', '46', '67', '45', '44', '44', '43', '215', '42', '41', '40', '102', '89', '110', '64', '63', '62', '62', '104', '59', '144', '165', '185', '55', '76', '53', '53', '204', '94', '93', '71', '264', '48', '47', '45', '45', '43', '43', '43', '64', '64', '150', '42', '63', '62', '78', '206', '70', '69', '306', '303', '108', '430', '170', '126', '255']\n"
     ]
    }
   ],
   "source": [
    "#Below code for list of reviews\n",
    "lst_of_reviews=[]\n",
    "for j in soup.findAll(class_='right hidden-xs'):\n",
    "    review=j.get_text()\n",
    "    lst_of_reviews.append(review)\n",
    "print(lst_of_reviews)"
   ]
  },
  {
   "cell_type": "code",
   "execution_count": 24,
   "metadata": {},
   "outputs": [
    {
     "name": "stdout",
     "output_type": "stream",
     "text": [
      "<class 'bs4.element.Tag'>\n"
     ]
    }
   ],
   "source": [
    "import json\n",
    "k = soup.find(id=\"jsonLdSchema\")\n",
    "\n",
    "print(type(k))\n",
    "\n"
   ]
  },
  {
   "cell_type": "code",
   "execution_count": 25,
   "metadata": {},
   "outputs": [],
   "source": [
    "children = k.findChildren(\"jsonLdSchema\" , recursive=False)\n",
    "for child in children:\n",
    "    print(child)"
   ]
  },
  {
   "cell_type": "code",
   "execution_count": 26,
   "metadata": {},
   "outputs": [],
   "source": [
    "json_data = json.loads(k.get_text())"
   ]
  },
  {
   "cell_type": "code",
   "execution_count": 27,
   "metadata": {},
   "outputs": [
    {
     "data": {
      "text/plain": [
       "dict"
      ]
     },
     "execution_count": 27,
     "metadata": {},
     "output_type": "execute_result"
    }
   ],
   "source": [
    "type(json_data)"
   ]
  },
  {
   "cell_type": "code",
   "execution_count": 28,
   "metadata": {},
   "outputs": [],
   "source": [
    "#Url column of Movie Detail Page\n",
    "movie_dtl_list = json_data[\"itemListElement\"]\n",
    "movie_url = []\n",
    "for dtl in movie_dtl_list:\n",
    "    movie_url.append(dtl[\"url\"])"
   ]
  },
  {
   "cell_type": "code",
   "execution_count": 129,
   "metadata": {},
   "outputs": [
    {
     "data": {
      "text/plain": [
       "['https://www.rottentomatoes.com/m/one_night_in_miami/',\n",
       " 'https://www.rottentomatoes.com/m/portrait_of_a_lady_on_fire/',\n",
       " 'https://www.rottentomatoes.com/m/minari/',\n",
       " 'https://www.rottentomatoes.com/m/ma_raineys_black_bottom/',\n",
       " 'https://www.rottentomatoes.com/m/soul_2020/',\n",
       " 'https://www.rottentomatoes.com/m/1917_2019/',\n",
       " 'https://www.rottentomatoes.com/m/the_invisible_man_2020/',\n",
       " 'https://www.rottentomatoes.com/m/never_rarely_sometimes_always/',\n",
       " 'https://www.rottentomatoes.com/m/sound_of_metal/',\n",
       " 'https://www.rottentomatoes.com/m/promising_young_woman/',\n",
       " 'https://www.rottentomatoes.com/m/wolfwalkers/',\n",
       " 'https://www.rottentomatoes.com/m/palm_springs_2020/',\n",
       " 'https://www.rottentomatoes.com/m/hamilton_2020/',\n",
       " 'https://www.rottentomatoes.com/m/da_5_bloods/',\n",
       " 'https://www.rottentomatoes.com/m/first_cow/',\n",
       " 'https://www.rottentomatoes.com/m/miss_juneteenth/',\n",
       " 'https://www.rottentomatoes.com/m/his_house/',\n",
       " 'https://www.rottentomatoes.com/m/collective_2020/',\n",
       " 'https://www.rottentomatoes.com/m/crip_camp_a_disability_revolution/',\n",
       " 'https://www.rottentomatoes.com/m/76_days/',\n",
       " 'https://www.rottentomatoes.com/m/the_trial_of_the_chicago_7/',\n",
       " 'https://www.rottentomatoes.com/m/david_byrnes_american_utopia/',\n",
       " 'https://www.rottentomatoes.com/m/host_2020/',\n",
       " 'https://www.rottentomatoes.com/m/dick_johnson_is_dead/',\n",
       " 'https://www.rottentomatoes.com/m/possessor_uncut/',\n",
       " 'https://www.rottentomatoes.com/m/the_forty_year_old_version/',\n",
       " 'https://www.rottentomatoes.com/m/totally_under_control/',\n",
       " 'https://www.rottentomatoes.com/m/saint_frances/',\n",
       " 'https://www.rottentomatoes.com/m/time_2020/',\n",
       " 'https://www.rottentomatoes.com/m/onward/',\n",
       " 'https://www.rottentomatoes.com/m/blow_the_man_down/',\n",
       " 'https://www.rottentomatoes.com/m/the_personal_history_of_david_copperfield/',\n",
       " 'https://www.rottentomatoes.com/m/the_vast_of_night/',\n",
       " 'https://www.rottentomatoes.com/m/welcome_to_chechnya/',\n",
       " 'https://www.rottentomatoes.com/m/all_in_the_fight_for_democracy/',\n",
       " 'https://www.rottentomatoes.com/m/mucho_mucho_amor/',\n",
       " 'https://www.rottentomatoes.com/m/the_assistant_2020/',\n",
       " 'https://www.rottentomatoes.com/m/relic/',\n",
       " 'https://www.rottentomatoes.com/m/the_truffle_hunters/',\n",
       " 'https://www.rottentomatoes.com/m/athlete_a/',\n",
       " 'https://www.rottentomatoes.com/m/corpus_christi_2020/',\n",
       " 'https://www.rottentomatoes.com/m/driveways/',\n",
       " 'https://www.rottentomatoes.com/m/on_the_record/',\n",
       " 'https://www.rottentomatoes.com/m/extra_ordinary/',\n",
       " 'https://www.rottentomatoes.com/m/slay_the_dragon/',\n",
       " 'https://www.rottentomatoes.com/m/house_of_hummingbird/',\n",
       " 'https://www.rottentomatoes.com/m/the_fight_2020/',\n",
       " 'https://www.rottentomatoes.com/m/a_secret_love/',\n",
       " 'https://www.rottentomatoes.com/m/coup_53/',\n",
       " 'https://www.rottentomatoes.com/m/rewind_2020/',\n",
       " 'https://www.rottentomatoes.com/m/coded_bias/',\n",
       " 'https://www.rottentomatoes.com/m/another_round/',\n",
       " 'https://www.rottentomatoes.com/m/mayor/',\n",
       " 'https://www.rottentomatoes.com/m/mystify_michael_hutchence/',\n",
       " 'https://www.rottentomatoes.com/m/a_thousand_cuts_2020/',\n",
       " 'https://www.rottentomatoes.com/m/the_half_of_it/',\n",
       " 'https://www.rottentomatoes.com/m/gunda_2020/',\n",
       " 'https://www.rottentomatoes.com/m/the_painter_and_the_thief/',\n",
       " 'https://www.rottentomatoes.com/m/city_hall_2020/',\n",
       " 'https://www.rottentomatoes.com/m/anything_for_jackson/',\n",
       " 'https://www.rottentomatoes.com/m/vitalina_varela/',\n",
       " 'https://www.rottentomatoes.com/m/beats_2020/',\n",
       " 'https://www.rottentomatoes.com/m/night_of_the_kings/',\n",
       " 'https://www.rottentomatoes.com/m/circus_of_books/',\n",
       " 'https://www.rottentomatoes.com/m/boys_state/',\n",
       " 'https://www.rottentomatoes.com/m/bacurau/',\n",
       " 'https://www.rottentomatoes.com/m/saint_maud/',\n",
       " 'https://www.rottentomatoes.com/m/disclosure_2020_2/',\n",
       " 'https://www.rottentomatoes.com/m/why_dont_you_just_die/',\n",
       " 'https://www.rottentomatoes.com/m/apples/',\n",
       " 'https://www.rottentomatoes.com/m/the_swerve/',\n",
       " 'https://www.rottentomatoes.com/m/enola_holmes/',\n",
       " 'https://www.rottentomatoes.com/m/la_llorona_2019/',\n",
       " 'https://www.rottentomatoes.com/m/the_dissident/',\n",
       " 'https://www.rottentomatoes.com/m/farewell_amor/',\n",
       " 'https://www.rottentomatoes.com/m/news_of_the_world/',\n",
       " 'https://www.rottentomatoes.com/m/sweat_2020/',\n",
       " 'https://www.rottentomatoes.com/m/fourteen_2019/',\n",
       " 'https://www.rottentomatoes.com/m/the_go_gos/',\n",
       " 'https://www.rottentomatoes.com/m/make_up_2020/',\n",
       " 'https://www.rottentomatoes.com/m/fireball_visitors_from_darker_worlds/',\n",
       " 'https://www.rottentomatoes.com/m/there_is_no_evil/',\n",
       " 'https://www.rottentomatoes.com/m/the_last_tree/',\n",
       " 'https://www.rottentomatoes.com/m/spontaneous/',\n",
       " 'https://www.rottentomatoes.com/m/rocks/',\n",
       " 'https://www.rottentomatoes.com/m/babyteeth/',\n",
       " 'https://www.rottentomatoes.com/m/assassins_2020/',\n",
       " 'https://www.rottentomatoes.com/m/the_human_voice_2020/',\n",
       " 'https://www.rottentomatoes.com/m/the_boy_behind_the_door/',\n",
       " 'https://www.rottentomatoes.com/m/a_shaun_the_sheep_movie_farmageddon/',\n",
       " 'https://www.rottentomatoes.com/m/kajillionaire/',\n",
       " 'https://www.rottentomatoes.com/m/zappa_2020/',\n",
       " 'https://www.rottentomatoes.com/m/slaxx/',\n",
       " 'https://www.rottentomatoes.com/m/just_mercy/',\n",
       " 'https://www.rottentomatoes.com/m/borat_subsequent_moviefilm/',\n",
       " 'https://www.rottentomatoes.com/m/love_and_monsters/',\n",
       " 'https://www.rottentomatoes.com/m/birds_of_prey_2020/',\n",
       " 'https://www.rottentomatoes.com/m/the_white_tiger_2020/',\n",
       " 'https://www.rottentomatoes.com/m/yes_god_yes/',\n",
       " 'https://www.rottentomatoes.com/m/emma_2020/']"
      ]
     },
     "execution_count": 129,
     "metadata": {},
     "output_type": "execute_result"
    }
   ],
   "source": [
    "movie_url"
   ]
  },
  {
   "cell_type": "code",
   "execution_count": 41,
   "metadata": {
    "scrolled": false
   },
   "outputs": [
    {
     "name": "stdout",
     "output_type": "stream",
     "text": [
      "movie url is :: https://www.rottentomatoes.com/m/one_night_in_miami/\n",
      "movie url is :: https://www.rottentomatoes.com/m/portrait_of_a_lady_on_fire/\n",
      "movie url is :: https://www.rottentomatoes.com/m/minari/\n",
      "movie url is :: https://www.rottentomatoes.com/m/ma_raineys_black_bottom/\n",
      "movie url is :: https://www.rottentomatoes.com/m/soul_2020/\n",
      "movie url is :: https://www.rottentomatoes.com/m/1917_2019/\n",
      "movie url is :: https://www.rottentomatoes.com/m/the_invisible_man_2020/\n",
      "movie url is :: https://www.rottentomatoes.com/m/never_rarely_sometimes_always/\n",
      "movie url is :: https://www.rottentomatoes.com/m/sound_of_metal/\n",
      "movie url is :: https://www.rottentomatoes.com/m/promising_young_woman/\n",
      "movie url is :: https://www.rottentomatoes.com/m/wolfwalkers/\n",
      "movie url is :: https://www.rottentomatoes.com/m/palm_springs_2020/\n",
      "movie url is :: https://www.rottentomatoes.com/m/hamilton_2020/\n",
      "movie url is :: https://www.rottentomatoes.com/m/da_5_bloods/\n",
      "movie url is :: https://www.rottentomatoes.com/m/first_cow/\n",
      "movie url is :: https://www.rottentomatoes.com/m/miss_juneteenth/\n",
      "movie url is :: https://www.rottentomatoes.com/m/his_house/\n",
      "movie url is :: https://www.rottentomatoes.com/m/collective_2020/\n",
      "movie url is :: https://www.rottentomatoes.com/m/crip_camp_a_disability_revolution/\n",
      "movie url is :: https://www.rottentomatoes.com/m/76_days/\n",
      "movie url is :: https://www.rottentomatoes.com/m/the_trial_of_the_chicago_7/\n",
      "movie url is :: https://www.rottentomatoes.com/m/david_byrnes_american_utopia/\n",
      "movie url is :: https://www.rottentomatoes.com/m/host_2020/\n",
      "movie url is :: https://www.rottentomatoes.com/m/dick_johnson_is_dead/\n",
      "movie url is :: https://www.rottentomatoes.com/m/possessor_uncut/\n",
      "movie url is :: https://www.rottentomatoes.com/m/the_forty_year_old_version/\n",
      "movie url is :: https://www.rottentomatoes.com/m/totally_under_control/\n",
      "movie url is :: https://www.rottentomatoes.com/m/saint_frances/\n",
      "movie url is :: https://www.rottentomatoes.com/m/time_2020/\n",
      "movie url is :: https://www.rottentomatoes.com/m/onward/\n",
      "movie url is :: https://www.rottentomatoes.com/m/blow_the_man_down/\n",
      "movie url is :: https://www.rottentomatoes.com/m/the_personal_history_of_david_copperfield/\n",
      "movie url is :: https://www.rottentomatoes.com/m/the_vast_of_night/\n",
      "movie url is :: https://www.rottentomatoes.com/m/welcome_to_chechnya/\n",
      "movie url is :: https://www.rottentomatoes.com/m/all_in_the_fight_for_democracy/\n",
      "movie url is :: https://www.rottentomatoes.com/m/mucho_mucho_amor/\n",
      "movie url is :: https://www.rottentomatoes.com/m/the_assistant_2020/\n",
      "movie url is :: https://www.rottentomatoes.com/m/relic/\n",
      "movie url is :: https://www.rottentomatoes.com/m/the_truffle_hunters/\n",
      "movie url is :: https://www.rottentomatoes.com/m/athlete_a/\n",
      "movie url is :: https://www.rottentomatoes.com/m/corpus_christi_2020/\n",
      "movie url is :: https://www.rottentomatoes.com/m/driveways/\n",
      "movie url is :: https://www.rottentomatoes.com/m/on_the_record/\n",
      "movie url is :: https://www.rottentomatoes.com/m/extra_ordinary/\n",
      "movie url is :: https://www.rottentomatoes.com/m/slay_the_dragon/\n",
      "movie url is :: https://www.rottentomatoes.com/m/house_of_hummingbird/\n",
      "movie url is :: https://www.rottentomatoes.com/m/the_fight_2020/\n",
      "movie url is :: https://www.rottentomatoes.com/m/a_secret_love/\n",
      "movie url is :: https://www.rottentomatoes.com/m/coup_53/\n",
      "movie url is :: https://www.rottentomatoes.com/m/rewind_2020/\n",
      "movie url is :: https://www.rottentomatoes.com/m/coded_bias/\n",
      "movie url is :: https://www.rottentomatoes.com/m/another_round/\n",
      "movie url is :: https://www.rottentomatoes.com/m/mayor/\n",
      "movie url is :: https://www.rottentomatoes.com/m/mystify_michael_hutchence/\n",
      "movie url is :: https://www.rottentomatoes.com/m/a_thousand_cuts_2020/\n",
      "movie url is :: https://www.rottentomatoes.com/m/the_half_of_it/\n",
      "movie url is :: https://www.rottentomatoes.com/m/gunda_2020/\n",
      "movie url is :: https://www.rottentomatoes.com/m/the_painter_and_the_thief/\n",
      "movie url is :: https://www.rottentomatoes.com/m/city_hall_2020/\n",
      "movie url is :: https://www.rottentomatoes.com/m/anything_for_jackson/\n",
      "movie url is :: https://www.rottentomatoes.com/m/vitalina_varela/\n",
      "movie url is :: https://www.rottentomatoes.com/m/beats_2020/\n",
      "movie url is :: https://www.rottentomatoes.com/m/night_of_the_kings/\n",
      "movie url is :: https://www.rottentomatoes.com/m/circus_of_books/\n",
      "movie url is :: https://www.rottentomatoes.com/m/boys_state/\n",
      "movie url is :: https://www.rottentomatoes.com/m/bacurau/\n",
      "movie url is :: https://www.rottentomatoes.com/m/saint_maud/\n",
      "movie url is :: https://www.rottentomatoes.com/m/disclosure_2020_2/\n",
      "movie url is :: https://www.rottentomatoes.com/m/why_dont_you_just_die/\n",
      "movie url is :: https://www.rottentomatoes.com/m/apples/\n",
      "movie url is :: https://www.rottentomatoes.com/m/the_swerve/\n",
      "movie url is :: https://www.rottentomatoes.com/m/enola_holmes/\n",
      "movie url is :: https://www.rottentomatoes.com/m/la_llorona_2019/\n",
      "movie url is :: https://www.rottentomatoes.com/m/the_dissident/\n",
      "movie url is :: https://www.rottentomatoes.com/m/farewell_amor/\n",
      "movie url is :: https://www.rottentomatoes.com/m/news_of_the_world/\n",
      "movie url is :: https://www.rottentomatoes.com/m/sweat_2020/\n",
      "movie url is :: https://www.rottentomatoes.com/m/fourteen_2019/\n",
      "movie url is :: https://www.rottentomatoes.com/m/the_go_gos/\n",
      "movie url is :: https://www.rottentomatoes.com/m/make_up_2020/\n",
      "movie url is :: https://www.rottentomatoes.com/m/fireball_visitors_from_darker_worlds/\n",
      "movie url is :: https://www.rottentomatoes.com/m/there_is_no_evil/\n",
      "movie url is :: https://www.rottentomatoes.com/m/the_last_tree/\n",
      "movie url is :: https://www.rottentomatoes.com/m/spontaneous/\n",
      "movie url is :: https://www.rottentomatoes.com/m/rocks/\n",
      "movie url is :: https://www.rottentomatoes.com/m/babyteeth/\n",
      "movie url is :: https://www.rottentomatoes.com/m/assassins_2020/\n",
      "movie url is :: https://www.rottentomatoes.com/m/the_human_voice_2020/\n",
      "movie url is :: https://www.rottentomatoes.com/m/the_boy_behind_the_door/\n",
      "movie url is :: https://www.rottentomatoes.com/m/a_shaun_the_sheep_movie_farmageddon/\n",
      "movie url is :: https://www.rottentomatoes.com/m/kajillionaire/\n",
      "movie url is :: https://www.rottentomatoes.com/m/zappa_2020/\n",
      "movie url is :: https://www.rottentomatoes.com/m/slaxx/\n",
      "movie url is :: https://www.rottentomatoes.com/m/just_mercy/\n",
      "movie url is :: https://www.rottentomatoes.com/m/borat_subsequent_moviefilm/\n",
      "movie url is :: https://www.rottentomatoes.com/m/love_and_monsters/\n",
      "movie url is :: https://www.rottentomatoes.com/m/birds_of_prey_2020/\n",
      "movie url is :: https://www.rottentomatoes.com/m/the_white_tiger_2020/\n",
      "movie url is :: https://www.rottentomatoes.com/m/yes_god_yes/\n",
      "movie url is :: https://www.rottentomatoes.com/m/emma_2020/\n",
      "lst_of_tomatometerScore  [0.98, 0.98, 0.98, 0.98, 0.95, 0.89, 0.91, 0.99, 0.97, 0.9, 0.99, 0.95, 0.97, 0.92, 0.96, 0.99, 1.0, 0.99, 1.0, 1.0, 0.89, 0.98, 1.0, 1.0, 0.94, 0.98, 0.99, 0.99, 0.98, 0.88, 0.98, 0.92, 0.92, 1.0, 1.0, 1.0, 0.92, 0.92, 0.97, 1.0, 0.98, 0.99, 0.99, 0.98, 1.0, 1.0, 0.99, 1.0, 1.0, 1.0, 1.0, 0.92, 1.0, 1.0, 1.0, 0.97, 0.97, 0.96, 0.98, 0.98, 0.98, 0.98, 0.96, 0.98, 0.94, 0.93, 0.92, 0.98, 0.97, 0.98, 0.98, 0.91, 0.96, 0.96, 0.97, 0.88, 0.98, 0.98, 0.98, 0.98, 0.98, 0.98, 0.98, 0.97, 0.97, 0.93, 0.98, 0.97, 0.97, 0.96, 0.9, 0.96, 0.96, 0.85, 0.85, 0.94, 0.79, 0.91, 0.93, 0.87]\n",
      "lst of audienceScore  [0.79, 0.92, 0.87, 0.73, 0.88, 0.88, 0.88, 0.51, 0.9, 0.88, 0.98, 0.88, 0.9, 0.54, 0.63, 0.57, 0.74, 0.89, 0.91, 0.85, 0.9, 0.85, 0.73, 0.78, 0.59, 0.71, 0.84, 0.77, 0.51, 0.95, 0.73, 0.54, 0.66, 0.86, 0.71, 0.92, 0.25, 0.5, 0.74, 0.93, 0.93, 0.82, 0.82, 0.77, 0.71, 0.7, 0.7, 0.91, 0.9, 0.95, 0.52, 0.9, 0.9, 0.94, 0.89, 0.81, 0.66, 0.86, 0.64, 0.7, 0.59, 0.77, 0.57, 0.81, 0.9, 0.85, 0.64, 0.87, None, None, 0.62, 0.7, 0.62, 0.8, 0.69, 0.89, 0.81, 0.53, 0.95, None, 0.62, None, 0.65, 0.67, 0.78, 0.84, 0.84, 0.69, 0.73, 0.8, 0.47, 0.79, 0.43, 0.99, 0.63, 0.89, 0.78, 0.8, 0.65, 0.72]\n",
      "lst of lst_of_synopsis  ['\\n                On one incredible night in 1964, four icons of sports, music, and activism gathered to celebrate one of the biggest upsets in boxing history. When underdog Cassius Clay, soon to be called Muhammad Ali, (Eli Goree), defeats heavy weight champion Sonny Liston at the Miami Convention Hall, Clay memorialized the event with three of his friends: Malcolm X (Kingsley Ben-Adir), Sam Cooke (Leslie Odom Jr.) and Jim Brown (Aldis Hodge).\\n            ', '\\n                In 1770 the young daughter of a French countess develops a mutual attraction to the female artist commissioned to paint her wedding portrait.\\n            ', '\\n                A tender and sweeping story about what roots us, Minari follows a Korean-American family that moves to a tiny Arkansas farm in search of their own American Dream. The family home changes completely with the arrival of their sly, foul-mouthed, but incredibly loving grandmother. Amidst the instability and challenges of this new life in the rugged Ozarks, Minari shows the undeniable resilience of family and what really makes a home.\\n            ', '\\n                Tensions and temperatures rise over the course of an afternoon recording session in 1920s Chicago as a band of musicians await trailblazing performer, the legendary “Mother of the Blues,” Ma Rainey (Academy Award® winner Viola Davis). Late to the session, the fearless, fiery Ma engages in a battle of wills with her white manager and producer over control of her music. As the band waits in the studio’s claustrophobic rehearsal room, ambitious cornet player Levee (Chadwick Boseman) — who has an eye for Ma’s girlfriend and is determined to stake his own claim on the music industry — spurs his fellow musicians into an eruption of stories revealing truths that will forever change the course of their lives.\\n            ', \"\\n                Joe is a middle-school band teacher whose life hasn't quite gone the way he expected. His true passion is jazz -- and he's good. But when he travels to another realm to help someone find their passion, he soon discovers what it means to have soul.\\n            \", \"\\n                During World War I, two British soldiers -- Lance Cpl. Schofield and Lance Cpl. Blake -- receive seemingly impossible orders. In a race against time, they must cross over into enemy territory to deliver a message that could potentially save 1,600 of their fellow comrades -- including Blake's own brother.\\n            \", '\\n                After staging his own suicide, a crazed scientist uses his power to become invisible to stalk and terrorize his ex-girlfriend. When the police refuse to believe her story, she decides to take matters into her own hands and fight back.\\n            ', '\\n                Faced with an unintended pregnancy and a lack of local support, Autumn and her cousin, Skylar, travel across state lines to New York City on a fraught journey of friendship, bravery and compassion.\\n            ', '\\n                During a series of adrenaline-fueled one-night gigs, itinerant punk-metal drummer Ruben (Riz Ahmed) begins to experience intermittent hearing loss. When a specialist tells him his condition will rapidly worsen, he thinks his music career — and with it his life — is over. His bandmate and girlfriend Lou (Olivia Cooke) checks the recovering heroin addict into a secluded sober house for the deaf in hopes it will prevent a relapse and help him learn to adapt to his new situation. But after being welcomed into a community that accepts him just as he is, Ruben has to choose between his equilibrium and the drive to reclaim the life he once knew. Utilizing startling, innovative sound design techniques, director Darius Marder takes audiences inside Ruben’s experience to vividly recreate his journey into a rarely examined world.\\n            ', \"\\n                Nothing in Cassie's life is what it appears to be -- she's wickedly smart, tantalizingly cunning, and she's living a secret double life by night. Now, an unexpected encounter is about to give Cassie a chance to right the wrongs from the past.\\n            \", '\\n                In a time of superstition and magic, a young apprentice hunter, Robyn Goodfellowe, journeys to Ireland with her father to wipe out the last wolf pack. While exploring the forbidden lands outside the city walls, Robyn befriends a free-spirited girl, Mebh, a member of a mysterious tribe rumored to have the ability to transform into wolves by night. As they search for Mebh\\'s missing mother, Robyn uncovers a secret that draws her further into the enchanted world of the \"Wolfwalkers\" and risks turning into the very thing her father is tasked to destroy.\\n            ', '\\n                Stuck in a time loop, two wedding guests develop a budding romance while living the same day over and over again.\\n            ', '\\n                The original Broadway production of the award-winning musical that tells the story of Alexander Hamilton, first secretary of the treasury, blending hip-hop, jazz, R&B and Broadway styles, filmed from the Richard Rogers Theater in New York.\\n            ', '\\n                Four African American vets battle the forces of man and nature when they return to Vietnam seeking the remains of their fallen squad leader and the gold fortune he helped them hide.\\n            ', \"\\n                Two travelers, on the run from a band of vengeful hunters in the 1820s Northwest, dream of striking it rich -- but their tenuous plan to make their fortune on the frontier comes to rely on the secret use of a landowner's prized dairy cow.\\n            \", '\\n                A former beauty queen and single mom prepares her rebellious teenage daughter for the \"Miss Juneteenth\" pageant.\\n            ', '\\n                A refugee couple makes a harrowing escape from war-torn South Sudan, but then they struggle to adjust to their new life in an English town that has an evil lurking beneath the surface.\\n            ', '\\n                Directed by Alexander Nanau (TOTO AND HIS SISTERS), COLLECTIVE follows a heroic team of journalists as they uncover shocking, widespread corruption. After a deadly nightclub fire, the mysterious death of the owner of a powerful pharmaceutical firm, and the quiet resignation of a health minister—seemingly unrelated events, all within weeks of each other--the team of intrepid reporters exposes a much larger, much more explosive political scandal. COLLECTIVE is a fast-paced, real-time detective story about truth, accountability, and the value of an independent press in partisan times.\\n            ', '\\n                A groundbreaking summer camp galvanizes teens who have disabilities.\\n            ', '\\n                Health care workers and patients combat the COVID-19 outbreak during a lockdown in Wuhan, China.\\n            ', '\\n                In 1969, seven people were charged by the federal government with conspiracy and more, arising from the protests at the 1968 Democratic National Convention in Chicago.\\n            ', '\\n                Singer David Byrne and a group of international musicians perform songs from the hit Broadway musical \"American Utopia.\"\\n            ', '\\n                Six friends accidentally invite the attention of a demonic presence during an online séance and begin noticing strange occurrences in their homes.\\n            ', '\\n                A filmmaker and her elderly father stage his death in various ways to help them face his inevitable demise.\\n            ', \"\\n                Tasya Vos, an elite, corporate assassin, takes control of other people's bodies using brain-implant technology to execute high-profile targets.\\n            \", '\\n                A struggling New York City playwright finds inspiration by reinventing herself as a rapper.\\n            ', \"\\n                Public health officials discuss the U.S. government's response to the COVID-19 pandemic.\\n            \", \"\\n                After an abortion, a deadbeat nanny finds friendship with the 6-year-old she's hired to watch.\\n            \", '\\n                Entrepreneur Fox Rich spends the last two decades campaigning for the release of her husband, Rob G. Rich, who is serving a 60-year prison sentence for a robbery they both committed in the early 1990s in a moment of desperation.\\n            ', '\\n                Teenage elf brothers Ian and Barley embark on a magical quest to spend one more day with their late father. Like any good adventure, their journey is filled with cryptic maps, impossible obstacles and unimaginable discoveries. But when dear Mom finds out her sons are missing, she teams up with the legendary manticore to bring her beloved boys back home.\\n            ', \"\\n                Welcome to Easter Cove, a salty fishing village on the far reaches of Maine's rocky coast. Grieving the loss of their mother and facing an uncertain future, Mary Beth & Priscilla Connolly cover up a gruesome run-in with a dangerous man. To conceal their crime, the sisters must go deeper into Easter Cove's underbelly and uncover the town matriarchs' darkest secrets.\\n            \", '\\n                The life of David Copperfield is chronicled from his youth into adulthood.\\n            ', '\\n                In the 1950s, two kids search for the source of a mysterious frequency that has descended on their town.\\n            ', '\\n                Activists risk their lives to confront Russian leader Ramzan Kadyrov and his government-directed campaign to detain, torture and execute LGBTQ Chechens.\\n            ', '\\n                Filmmakers Liz Garbus and Lisa Cortes examine the history of voter suppression and the activists who fight for the rights of U.S. citizens.\\n            ', '\\n                Puerto Rican astrologer and psychic Walter Mercado discusses his life, career and post-fame seclusion.\\n            ', '\\n                Jane, a recent college graduate and aspiring film producer, just landed her dream job as a junior assistant to a powerful entertainment mogul. Her day is much like any other assistant -- making coffee, ordering lunch, arranging travel accommodations and taking phone messages. But as Jane follows her daily routine, she grows increasingly aware of the abuse that insidiously colors every aspect of her workday, an accumulation of degradations against which she decides to take a stand.\\n            ', \"\\n                A woman links her mother's increasingly volatile behavior to an evil presence at their family's decaying country home.\\n            \", '\\n                A handful of men search for rare, expensive and delicious white Alba truffles deep in the forests of Piedmont, Italy.\\n            ', \"\\n                Reporters from The Indianapolis Star expose Dr. Larry Nassar's sexual abuse of young gymnasts.\\n            \", '\\n                A reformed criminal is prevented from applying to the seminary after his release, so he dresses as a priest and ministers a small town parish.\\n            ', \"\\n                A lonely boy goes with his mother to help clean out his late aunt's house.\\n            \", '\\n                Filmmakers Kirby Dick and Amy Ziering examine the sexual assault allegations against hip-hop mogul Russell Simmons.\\n            ', '\\n                A woman who has supernatural abilities must save a possessed girl.\\n            ', \"\\n                Activists work to rid gerrymandering from America's election process.\\n            \", '\\n                In 1994 Seoul when the Seongsu Bridge collapses, 14-year-old Eunhee wanders the city and searches for love.\\n            ', '\\n                At a defining moment in American history, a scrappy team of heroic ACLU lawyers battles for abortion rights, immigrant rights, LGBTQ rights and voting rights.\\n            ', '\\n                A former baseball player keeps her lesbian relationship a secret from her family for seven decades.\\n            ', '\\n                The story of Operation Ajax, the CIA/MI6 staged coup in 1953 in Iran that overthrew Prime Minister Mossadegh.\\n            ', \"\\n                Digging through his father's home videos, a young man reconstructs the story of his boyhood and recalls the abuse he suffered through.\\n            \", \"\\n                An exploration into the fallout of MIT Media Lab researcher Joy Buolamwini's discovery of racial bias in facial recognition algorithms.\\n            \", '\\n                Four high school teachers consume alcohol on a daily basis to see how it affects their social and professional lives.\\n            ', '\\n                A look at the life of Musa Hadid, the charismatic mayor of Palestinian city Ramallah, who aspires to lead the city into the future.\\n            ', '\\n                Archival footage, private home movies and intimate interviews offer insight into the extraordinary life and career of former INXS singer Michael Hutchence.\\n            ', \"\\n                Journalist Maria Ressa risks her life and freedom as an outspoken critic of Filipino President Rodrigo Duterte's war on drugs.\\n            \", '\\n                A shy, introverted student helps the school jock woo a girl whom, secretly, they both want.\\n            ', \"\\n                Experiential cinema in its purest form, GUNDA chronicles the unfiltered lives of a mother pig, a flock of chickens, and a herd of cows with masterful intimacy. Using stark, transcendent black and white cinematography and the farm's ambient soundtrack, Master director Victor Kossakowsky invites the audience to slow down and experience life as his subjects do, taking in their world with a magical patience and an other worldly perspective. GUNDA asks us to meditate on the mystery of animal consciousness, and reckon with the role humanity plays in it.\\n            \", '\\n                Czech artist Barbora Kysilkova develops an unlikely friendship with the man who stole two of her paintings.\\n            ', '\\n                Filmmaker Frederick Wiseman examines the rich history of Boston City Hall.\\n            ', '\\n                A sinister couple hatch a supernatural scheme to resurrect their dead grandson through a pregnant woman.\\n            ', \"\\n                A woman moves from Cape Verde to her deceased husband's shack on the outskirts of Lisbon.\\n            \", '\\n                In 1994 two Scottish friends head out for a final night of partying before they go their separate ways.\\n            ', '\\n                A young man is sent to \"La Maca,\" a prison in the middle of the Ivorian forest ruled by its inmates. As tradition goes with the rising of the red moon, he is designated by the Boss to be the new \"Roman\" and must tell a story to the other prisoners. Learning what fate awaits him, he begins to narrate the mystical life of the legendary outlaw named \"Zama King\" and has no choice but to make his story last until dawn.\\n            ', '\\n                In 1976 a couple take over an adult book store, and the store becomes the biggest distributor of gay porn in the United States.\\n            ', '\\n                Texas teens learn about American democracy by organizing political parties and running a mock government.\\n            ', '\\n', \"\\n                The debut film from writer-director Rose Glass, Saint Maud is a chilling and boldly original vision of faith, madness, and salvation in a fallen world. Maud, a newly devout hospice nurse, becomes obsessed with saving her dying patient's soul -- but sinister forces, and her own sinful past, threaten to put an end to her holy calling.\\n            \", \"\\n                A look at Hollywood's depiction of transgender people and the impact of this on American culture.\\n            \", '\\n', '\\n', '\\n                A woman with a seemingly perfect life battles insomnia.\\n            ', '\\n                While searching for her missing mother, intrepid teen Enola Holmes uses her sleuthing skills to outsmart big brother Sherlock and help a runaway lord.\\n            ', '\\n                Alma is murdered with her children during a military attack in Guatemala, but when the general who ordered the genocide is found not guilty 30 years later, Alma returns to the world of the living to torment the man.\\n            ', \"\\n                When Washington Post journalist Jamal Khashoggi disappears after entering Saudi Arabia's consulate in Istanbul, his fiancée and dissidents around the world are left to piece together the clues to a brutal murder and expose a global cover-up perpetrated by the very country he loved.\\n            \", '\\n                After 17 years apart, Angolan immigrant Walter is joined in the U.S. by his wife and teen daughter. Now absolute strangers sharing a one bedroom Brooklyn apartment, they struggle to overcome the emotional distance between them. Walter is trying to let go of a previous relationship while his wife Esther struggles with a new country, culture and a husband who seems distant. Their daughter Sylvia is a dancer just like her father, and while she also finds her new life difficult, she bravely starts to explore the city and show herself through dance. The film is both a universal immigrant story and the unique perspective of three characters bound together by history and hope. It is an intimate and deeply personal look at an inter-generational tale that has defined America since its inception.\\n            ', '\\n                Five years after the end of the Civil War, Capt. Jefferson Kyle Kidd crosses paths with a 10-year-old girl taken by the Kiowa people. Forced to return to her aunt and uncle, Kidd agrees to escort the child across the harsh and unforgiving plains of Texas. However, the long journey soon turns into a fight for survival as the traveling companions encounter danger at every turn -- both human and natural.\\n            ', '\\n                Beloved fitness influencer Sylwia seemingly has it made: hundreds of thousands of social media followers, endorsement deals, photo spreads in magazines. But as she starts to share more and more online, the rising pressure from concerned sponsors and increasingly obsessive fans forces her to confront her deepest insecurities and the exhaustive demands of her lifestyle.\\n            ', '\\n                Two childhood friends weather life together with varying degrees of success.\\n            ', \"\\n                The Go-Go's become the first successful, all-girl band to write their own songs and play their own instruments while making it to No. 1 on the charts.\\n            \", '\\n                A teen makes an unsettling discovery about her boyfriend that lures her into a spiral of obsession.\\n            ', '\\n                A journey across the planet and universe explores how meteorites, shooting stars and deep impacts have awoken wonder about other realms -- and make people rethink their destinies.\\n            ', '\\n                Shot in secret and smuggled out of Iran, There is No Evil is an anthology film comprising four moral tales about men faced with a simple yet unthinkable choice -- to follow orders to enforce the death penalty, or resist and risk everything. Whatever they decide, it will directly or indirectly affect their lives, their relationships, and their consciences. Says director Mohammad Rasoulof: \"As responsible citizens, do we have a choice when enforcing the inhumane orders of despots? As human beings, to what extent are we to be held responsible for carrying out those orders? Where does the duality of love and moral responsibility leave us?\" Suspenseful, mysterious, and shot through with a sense of urgency, Rasoulof\\'s film is an incisive look at the moral strength and inner humanity of its protagonists.\\n            ', '\\n                After growing up in quiet, rural Lincolnshire, teenager Femi struggles with unfamiliar surroundings and cultural differences when he moves in with his mother in London.\\n            ', '\\n                When students in their high school inexplicably start to explode, seniors Mara and Dylan struggle to survive in a world where each moment may be their last. As an unexpected romance blossoms between them, they soon discover that when tomorrow is no longer promised, they can finally start living for today.\\n            ', '\\n                A London teen takes care of her younger brother after their mother abruptly leaves.\\n            ', '\\n', '\\n                The audacious murder of the brother of North Korea’s Supreme Leader Kim Jon Un in a crowded Malaysian airport sparked a worldwide media frenzy. At the center of the investigation are two young women who are either cold-blooded killers or unwitting pawns in a political assassination. ASSASSINS goes beyond the headlines to question every angle of this case, from human trafficking to geo-political espionage to the secretive dynamics of the North Korean dynasty.\\n            ', \"\\n                A woman watches time passing next to the suitcases of her ex-lover -- who is supposed to come pick her up, and his dog. She and the dog, which doesn't understand that its master has abandoned it, wait for him.\\n            \", '\\n                In The Boy Behind the Door, a night of unimaginable terror awaits twelve-year-old Bobby (Lonnie Chavis) and his best friend, Kevin (Ezra Dewey), when they are abducted on their way home from school. Managing to escape his confines, Bobby navigates the dark halls, praying his presence goes unnoticed as he avoids his captor at every turn. Even worse is the arrival of another stranger, whose mysterious arrangement with the kidnapper may spell certain doom for Kevin. With no means of calling for help and miles of dark country in every direction, Bobby embarks on a rescue mission, determined to get himself and Kevin out alive... or die trying.\\n            ', \"\\n                When a UFO crash-lands near Mossy Bottom Farm, it's up to Shaun the sheep and his animal friends to help a stranded extraterrestrial find its way home.\\n            \", '\\n                Two con artists have spent 26 years training their only daughter to swindle, scam and steal at every turn. During a desperate and hastily conceived heist, they charm a stranger into joining them, only to have their entire world turned upside down.\\n            ', '\\n                With unfettered access to the Zappa family trust and all archival footage, ZAPPA explores the private life behind the mammoth musical career that never shied away from the political turbulence of its time. Alex Winter’s assembly features appearances by Frank’s widow Gail Zappa and several of Frank’s musical collaborators including Mike Keneally, Ian Underwood, Steve Vai, Pamela Des Barres, Bunk Gardner, David Harrington, Scott Thunes, Ruth Underwood, Ray White and others.\\n            ', \"\\n                A possessed pair of jeans is brought to life to punish the unscrupulous practices of a trendy clothing company. Shipped to the company's flagship store, Slaxx proceeds to wreak carnage on staff locked in overnight to set up the new collection.\\n            \", \"\\n                After graduating from Harvard, Bryan Stevenson heads to Alabama to defend those wrongly condemned or those not afforded proper representation. One of his first cases is that of Walter McMillian, who is sentenced to die in 1987 for the murder of an 18-year-old girl, despite evidence proving his innocence. In the years that follow, Stevenson encounters racism and legal and political maneuverings as he tirelessly fights for McMillian's life.\\n            \", '\\n                Released from prison for bringing shame to his country, Kazakh funnyman Borat risks life and limb when he returns to America with his 15-year-old daughter.\\n            ', \"\\n                Seven years after the Monsterpocalypse, Joel Dawson, along with the rest of humanity, has been living underground ever since giant creatures took control of the land. After reconnecting over the radio with his high school girlfriend, Aimee, who is now 80 miles away at a coastal colony, Joel begins to fall for her again. As Joel realizes that there's nothing left for him underground, he decides to venture out to Aimee, despite all the dangerous monsters that stand in his way.\\n            \", \"\\n                It's open season on Harley Quinn when her explosive breakup with the Joker puts a big fat target on her back. Unprotected and on the run, Quinn faces the wrath of narcissistic crime boss Black Mask, his right-hand man, Victor Zsasz, and every other thug in the city. But things soon even out for Harley when she becomes unexpected allies with three deadly women -- Huntress, Black Canary and Renee Montoya.\\n            \", '\\n                Balram Halwai (Adarsh Gourav) narrates his epic and darkly humorous rise from poor villager to successful entrepreneur in modern India. Cunning and ambitious, our young hero jockeys his way into becoming a driver for Ashok (Rajkummar Rao) and Pinky (Priyanka Chopra-Jonas), who have just returned from America. Society has trained Balram to be one thing -- a servant -- so he makes himself indispensable to his rich masters. But after a night of betrayal, he realizes the corrupt lengths they will go to trap him and save themselves. On the verge of losing everything, Balram rebels against a rigged and unequal system to rise up and become a new kind of master. Based on the New York Times bestseller and 2008 Man Booker Prize-winning novel.\\n            ', '\\n                A Catholic girl finds herself having tempting thoughts after an AOL chat turns unexpectedly racy.\\n            ', '\\n                Beautiful, smart and wealthy, Emma Woodhouse navigates her way through misguided matches, romantic missteps and the challenges of growing up -- all to finally realize the love that has been there all along.\\n            ']\n",
      "lst of lst_of_genre  ['\\n                        \\n                        Drama\\n                        \\n                    ', '\\n                        \\n                        Drama, \\n                        \\n                        Romance, \\n                        \\n                        History, \\n                        \\n                        Lgbtq+\\n                        \\n                    ', '\\n                        \\n                        Drama\\n                        \\n                    ', '\\n                        \\n                        Drama, \\n                        \\n                        Music, \\n                        \\n                        History\\n                        \\n                    ', '\\n                        \\n                        Kids & family, \\n                        \\n                        Adventure, \\n                        \\n                        Comedy, \\n                        \\n                        Animation\\n                        \\n                    ', '\\n                        \\n                        War, \\n                        \\n                        History, \\n                        \\n                        Drama\\n                        \\n                    ', '\\n                        \\n                        Horror, \\n                        \\n                        Mystery & thriller\\n                        \\n                    ', '\\n                        \\n                        Drama\\n                        \\n                    ', '\\n                        \\n                        Drama, \\n                        \\n                        Music\\n                        \\n                    ', '\\n                        \\n                        Comedy, \\n                        \\n                        Mystery & thriller\\n                        \\n                    ', '\\n                        \\n                        Adventure, \\n                        \\n                        Animation, \\n                        \\n                        Fantasy\\n                        \\n                    ', '\\n                        \\n                        Romance\\n                        \\n                    ', '\\n                        \\n                        Musical\\n                        \\n                    ', '\\n                        \\n                        Drama, \\n                        \\n                        War\\n                        \\n                    ', '\\n                        \\n                        Drama, \\n                        \\n                        Western\\n                        \\n                    ', '\\n                        \\n                        Drama\\n                        \\n                    ', '\\n                        \\n                        Horror, \\n                        \\n                        Mystery & thriller\\n                        \\n                    ', '\\n                        \\n                        Documentary\\n                        \\n                    ', '\\n                        \\n                        Documentary\\n                        \\n                    ', '\\n                        \\n                        Documentary\\n                        \\n                    ', '\\n                        \\n                        Drama, \\n                        \\n                        History\\n                        \\n                    ', '\\n                        \\n                        Musical\\n                        \\n                    ', '\\n                        \\n                        Mystery & thriller, \\n                        \\n                        Horror\\n                        \\n                    ', '\\n                        \\n                        Documentary\\n                        \\n                    ', '\\n                        \\n                        Horror, \\n                        \\n                        Mystery & thriller, \\n                        \\n                        Sci-fi\\n                        \\n                    ', '\\n                        \\n                        Drama, \\n                        \\n                        Music, \\n                        \\n                        Comedy\\n                        \\n                    ', '\\n                        \\n                        Documentary\\n                        \\n                    ', '\\n                        \\n                        Drama, \\n                        \\n                        Comedy\\n                        \\n                    ', '\\n                        \\n                        Documentary\\n                        \\n                    ', '\\n                        \\n                        Kids & family, \\n                        \\n                        Animation, \\n                        \\n                        Adventure, \\n                        \\n                        Comedy, \\n                        \\n                        Fantasy\\n                        \\n                    ', '\\n                        \\n                        Drama, \\n                        \\n                        Comedy\\n                        \\n                    ', '\\n                        \\n                        Drama, \\n                        \\n                        Comedy\\n                        \\n                    ', '\\n                        \\n                        Mystery & thriller, \\n                        \\n                        Fantasy\\n                        \\n                    ', '\\n                        \\n                        Lgbtq+, \\n                        \\n                        Documentary\\n                        \\n                    ', '\\n                        \\n                        Documentary\\n                        \\n                    ', '\\n                        \\n                        Documentary\\n                        \\n                    ', '\\n                        \\n                        Drama\\n                        \\n                    ', '\\n                        \\n                        Drama, \\n                        \\n                        Horror\\n                        \\n                    ', '\\n                        \\n                        Documentary\\n                        \\n                    ', '\\n                        \\n                        Documentary\\n                        \\n                    ', '\\n                        \\n                        Drama\\n                        \\n                    ', '\\n                        \\n                        Drama\\n                        \\n                    ', '\\n                        \\n                        Documentary\\n                        \\n                    ', '\\n                        \\n                        Comedy, \\n                        \\n                        Fantasy\\n                        \\n                    ', '\\n                        \\n                        Documentary\\n                        \\n                    ', '\\n                        \\n                        Drama\\n                        \\n                    ', '\\n                        \\n                        Documentary\\n                        \\n                    ', '\\n                        \\n                        Drama, \\n                        \\n                        Documentary, \\n                        \\n                        Lgbtq+\\n                        \\n                    ', '\\n                        \\n                        Documentary\\n                        \\n                    ', '\\n                        \\n                        Drama, \\n                        \\n                        Documentary\\n                        \\n                    ', '\\n                        \\n                        Documentary\\n                        \\n                    ', '\\n                        \\n                        Drama, \\n                        \\n                        Comedy\\n                        \\n                    ', '\\n                        \\n                        Documentary\\n                        \\n                    ', '\\n                        \\n                        Documentary, \\n                        \\n                        Music, \\n                        \\n                        Biography\\n                        \\n                    ', '\\n                        \\n                        Documentary\\n                        \\n                    ', '\\n                        \\n                        Lgbtq+, \\n                        \\n                        Romance\\n                        \\n                    ', '\\n                        \\n                        Documentary\\n                        \\n                    ', '\\n                        \\n                        Documentary\\n                        \\n                    ', '\\n                        \\n                        Documentary\\n                        \\n                    ', '\\n                        \\n                        Horror\\n                        \\n                    ', '\\n                        \\n                        Drama\\n                        \\n                    ', '\\n                        \\n                        Drama, \\n                        \\n                        Comedy\\n                        \\n                    ', '\\n                        \\n                        Drama\\n                        \\n                    ', '\\n                        \\n                        Lgbtq+, \\n                        \\n                        Documentary, \\n                        \\n                        Biography\\n                        \\n                    ', '\\n                        \\n                        Documentary\\n                        \\n                    ', '\\n                        \\n                        Mystery & thriller, \\n                        \\n                        Drama, \\n                        \\n                        Fantasy\\n                        \\n                    ', '\\n                        \\n                        Horror\\n                        \\n                    ', '\\n                        \\n                        Documentary\\n                        \\n                    ', None, '\\n                        \\n                        Comedy, \\n                        \\n                        Drama\\n                        \\n                    ', '\\n                        \\n                        Drama\\n                        \\n                    ', '\\n                        \\n                        Mystery & thriller\\n                        \\n                    ', '\\n                        \\n                        Drama, \\n                        \\n                        Horror, \\n                        \\n                        Mystery & thriller, \\n                        \\n                        Crime\\n                        \\n                    ', '\\n                        \\n                        Documentary\\n                        \\n                    ', '\\n                        \\n                        Drama\\n                        \\n                    ', '\\n                        \\n                        Drama, \\n                        \\n                        Adventure, \\n                        \\n                        Western\\n                        \\n                    ', '\\n                        \\n                        Drama\\n                        \\n                    ', '\\n                        \\n                        Drama\\n                        \\n                    ', '\\n                        \\n                        Documentary, \\n                        \\n                        Music\\n                        \\n                    ', '\\n                        \\n                        Drama, \\n                        \\n                        Mystery & thriller\\n                        \\n                    ', '\\n                        \\n                        Documentary\\n                        \\n                    ', '\\n                        \\n                        Drama\\n                        \\n                    ', '\\n                        \\n                        Drama\\n                        \\n                    ', '\\n                        \\n                        Comedy, \\n                        \\n                        Horror\\n                        \\n                    ', '\\n                        \\n                        Drama\\n                        \\n                    ', '\\n                        \\n                        Comedy, \\n                        \\n                        Drama\\n                        \\n                    ', '\\n                        \\n                        Documentary\\n                        \\n                    ', '\\n                        \\n                        Drama\\n                        \\n                    ', '\\n                        \\n                        Horror, \\n                        \\n                        Mystery & thriller\\n                        \\n                    ', '\\n                        \\n                        Comedy, \\n                        \\n                        Sci-fi, \\n                        \\n                        Animation, \\n                        \\n                        Kids & family, \\n                        \\n                        Adventure\\n                        \\n                    ', '\\n                        \\n                        Drama, \\n                        \\n                        Comedy\\n                        \\n                    ', '\\n                        \\n                        Biography, \\n                        \\n                        Documentary, \\n                        \\n                        Music\\n                        \\n                    ', '\\n                        \\n                        Horror, \\n                        \\n                        Comedy\\n                        \\n                    ', '\\n                        \\n                        Drama\\n                        \\n                    ', '\\n                        \\n                        Comedy\\n                        \\n                    ', '\\n                        \\n                        Adventure, \\n                        \\n                        Comedy, \\n                        \\n                        Fantasy\\n                        \\n                    ', '\\n                        \\n                        Comedy, \\n                        \\n                        Action\\n                        \\n                    ', '\\n                        \\n                        Drama\\n                        \\n                    ', '\\n                        \\n                        Comedy\\n                        \\n                    ', '\\n                        \\n                        Drama, \\n                        \\n                        Romance, \\n                        \\n                        Comedy\\n                        \\n                    ']\n",
      "lst of lst_of_rating  ['R (Language Throughout)\\n                    ', 'R (Some Nudity and Sexuality)\\n                    ', 'PG-13 (Some Thematic Elements|A Rude Gesture)\\n                    ', 'R (Some Sexual Content|Language|Brief Violence)\\n                    ', 'PG (Thematic Elements|Some Language)\\n                    ', 'R (Some Disturbing Images|Language|Violence)\\n                    ', 'R (Some Strong Bloody Violence|Language)\\n                    ', 'PG-13 (Language|Disturbing Thematic Content|Mature Thematic Content|Some Sexual References|Teen Drinking)\\n                    ', 'R (Language Throughout|Brief Nude Images)\\n                    ', 'R (Language Throughout|Drug Use|Sexual Assault|Some Sexual Material|Strong Violence)\\n                    ', 'PG (Scary Images|Peril|Brief Language|Sequences of Violence|Some Thematic Elements)\\n                    ', 'R (Sexual Content|Language Throughout|Drug Use|Some Violence)\\n                    ', 'PG-13 (Language|Some Suggestive Material)\\n                    ', 'R (Grisly Images|Strong Violence|Pervasive Language)\\n                    ', 'PG-13 (Brief Strong Language)\\n                    ', '\\n                        \\n                        Drama\\n                        \\n                    ', '\\n                        \\n                        Horror, \\n                        \\n                        Mystery & thriller\\n                        \\n                    ', '\\n                        \\n                        Documentary\\n                        \\n                    ', 'R (Sexual References|Some Language)\\n                    ', '\\n                        \\n                        Documentary\\n                        \\n                    ', 'R (Drug Use|Bloody Images|Language Throughout|Some Violence)\\n                    ', '\\n                        \\n                        Musical\\n                        \\n                    ', '\\n                        \\n                        Mystery & thriller, \\n                        \\n                        Horror\\n                        \\n                    ', 'PG-13 (Macabre Images|Thematic Elements)\\n                    ', 'R (Strong Sexual Content|Strong Bloody Violence|Brief Drug Use|Language|Some Graphic Nudity)\\n                    ', 'R (Some Drug Use|Brief Nudity|Sexual Content|Pervasive Language)\\n                    ', '\\n                        \\n                        Documentary\\n                        \\n                    ', '\\n                        \\n                        Drama, \\n                        \\n                        Comedy\\n                        \\n                    ', 'PG-13 (Some Strong Language)\\n                    ', 'PG (Some Mild Thematic Elements|Action/Peril)\\n                    ', 'R (Language and Brief Drug Use|Some Language|Sexual Material)\\n                    ', 'PG (Thematic Material|Brief Violence)\\n                    ', 'PG-13 (Brief Strong Language)\\n                    ', '\\n                        \\n                        Lgbtq+, \\n                        \\n                        Documentary\\n                        \\n                    ', 'PG-13\\n                    ', '\\n                        \\n                        Documentary\\n                        \\n                    ', 'R (Some Language)\\n                    ', 'R (Some Horror Violence|Language|Disturbing Images)\\n                    ', 'PG-13 (Some Strong Language)\\n                    ', 'PG-13 (Descriptions of Sexual Abuse|Mature Thematic Content)\\n                    ', '\\n                        \\n                        Drama\\n                        \\n                    ', '\\n                        \\n                        Drama\\n                        \\n                    ', '\\n                        \\n                        Documentary\\n                        \\n                    ', 'R (Some Horror Violence|Sexual Content|Language)\\n                    ', 'PG-13 (Brief Strong Language)\\n                    ', '\\n                        \\n                        Drama\\n                        \\n                    ', 'PG-13 (Thematic Material|Strong Language|Brief Violence)\\n                    ', '\\n                        \\n                        Drama, \\n                        \\n                        Documentary, \\n                        \\n                        Lgbtq+\\n                        \\n                    ', '\\n                        \\n                        Documentary\\n                        \\n                    ', '\\n                        \\n                        Drama, \\n                        \\n                        Documentary\\n                        \\n                    ', '\\n                        \\n                        Documentary\\n                        \\n                    ', '\\n                        \\n                        Drama, \\n                        \\n                        Comedy\\n                        \\n                    ', '\\n                        \\n                        Documentary\\n                        \\n                    ', '\\n                        \\n                        Documentary, \\n                        \\n                        Music, \\n                        \\n                        Biography\\n                        \\n                    ', '\\n                        \\n                        Documentary\\n                        \\n                    ', 'PG-13 (Brief Language|Teen Drinking)\\n                    ', 'G\\n                    ', '\\n                        \\n                        Documentary\\n                        \\n                    ', '\\n                        \\n                        Documentary\\n                        \\n                    ', '\\n                        \\n                        Horror\\n                        \\n                    ', '\\n                        \\n                        Drama\\n                        \\n                    ', '\\n                        \\n                        Drama, \\n                        \\n                        Comedy\\n                        \\n                    ', 'R (Nudity|Language|Some Violent Material)\\n                    ', '\\n                        \\n                        Lgbtq+, \\n                        \\n                        Documentary, \\n                        \\n                        Biography\\n                        \\n                    ', 'PG-13 (Some Strong Language|Thematic Elements)\\n                    ', '\\n                        \\n                        Mystery & thriller, \\n                        \\n                        Drama, \\n                        \\n                        Fantasy\\n                        \\n                    ', 'R (Language|Disturbing and Violent Content|Sexual Content)\\n                    ', '\\n                        \\n                        Documentary\\n                        \\n                    ', '\\n\\n', '\\n                        \\n                        Comedy, \\n                        \\n                        Drama\\n                        \\n                    ', '\\n                        \\n                        Drama\\n                        \\n                    ', 'PG-13 (Some Violence)\\n                    ', '\\n                        \\n                        Drama, \\n                        \\n                        Horror, \\n                        \\n                        Mystery & thriller, \\n                        \\n                        Crime\\n                        \\n                    ', 'PG-13 (Disturbing/Violent Material)\\n                    ', '\\n                        \\n                        Drama\\n                        \\n                    ', 'PG-13 (Some Language|Disturbing Images|Thematic Material|Violence)\\n                    ', '\\n                        \\n                        Drama\\n                        \\n                    ', '\\n                        \\n                        Drama\\n                        \\n                    ', '\\n                        \\n                        Documentary, \\n                        \\n                        Music\\n                        \\n                    ', '\\n                        \\n                        Drama, \\n                        \\n                        Mystery & thriller\\n                        \\n                    ', '\\n                        \\n                        Documentary\\n                        \\n                    ', '\\n                        \\n                        Drama\\n                        \\n                    ', '\\n                        \\n                        Drama\\n                        \\n                    ', 'R (Teen Drug and Alcohol Use|Language|Bloody Images Throughout)\\n                    ', '\\n                        \\n                        Drama\\n                        \\n                    ', '\\n                        \\n                        Comedy, \\n                        \\n                        Drama\\n                        \\n                    ', '\\n                        \\n                        Documentary\\n                        \\n                    ', 'R\\n                    ', '\\n                        \\n                        Horror, \\n                        \\n                        Mystery & thriller\\n                        \\n                    ', 'G\\n                    ', 'R (Some Sexual References|Language)\\n                    ', '\\n                        \\n                        Biography, \\n                        \\n                        Documentary, \\n                        \\n                        Music\\n                        \\n                    ', '\\n                        \\n                        Horror, \\n                        \\n                        Comedy\\n                        \\n                    ', 'PG-13 (Thematic Content|Some Racial Epithets)\\n                    ', 'R (Graphic Nudity|Strong Crude & Sexual Content|Language)\\n                    ', 'PG-13 (Some Suggestive Material|Language|Action/Violence)\\n                    ', 'R (Some Sexual and Drug Material|Language Throughout|Strong Violence)\\n                    ', 'R (Language|Violence|Sexual Material)\\n                    ', 'R (Sexual Content|Some Nudity)\\n                    ', 'PG (Brief Partial Nudity)\\n                    ']\n"
     ]
    }
   ],
   "source": [
    "#Below columns are calculated\n",
    "\n",
    "#tomatometer : Found at top of Movie Detail Page 98% should be stored as 0.98\n",
    "# audience_score : Found at top of Movie Detail Page 98% should be stored as 0.98\n",
    "#synopsis\n",
    "#rating\n",
    "#genre\n",
    "#rating\n",
    "\n",
    "import urllib\n",
    "from urllib.request import urlopen\n",
    "lst_of_tomatometerScore = []\n",
    "lst_of_audienceScore = []\n",
    "lst_of_synopsis = []\n",
    "lst_of_rating = []\n",
    "lst_of_genre = []\n",
    "\n",
    "#Run for Each Movie URL\n",
    "for m in movie_url:\n",
    "    print('movie url is ::',m)\n",
    "    page1 = urlopen(m)\n",
    "    html1 = page1.read().decode(\"utf-8\")\n",
    "    soup_count = BeautifulSoup(html1, \"html.parser\")\n",
    "    synopsis = soup_count.find(class_=\"movie_synopsis clamp clamp-6 js-clamp\")\n",
    "    k = soup_count.find(id=\"score-details-json\")\n",
    "    rating = soup_count.find(class_=\"meta-value\")\n",
    "    genre = soup_count.find(class_=\"meta-value genre\")\n",
    "    \n",
    "    \n",
    "    json_data = json.loads(k.get_text())\n",
    "    json_data = json_data['scoreboard']\n",
    " #   print('json_data')\n",
    "    audienceScore = json_data[\"audienceScore\"]\n",
    "    tomatometerScore = json_data[\"tomatometerScore\"]\n",
    "    if tomatometerScore is not None:\n",
    "        lst_of_tomatometerScore.append(round(tomatometerScore/100,2))\n",
    "    else:\n",
    "        lst_of_tomatometerScore.append(None)\n",
    "    if audienceScore is not None:    \n",
    "        lst_of_audienceScore.append(round(audienceScore/100,2))\n",
    "    else:\n",
    "        lst_of_audienceScore.append(None)\n",
    "    lst_of_synopsis.append(synopsis.get_text())\n",
    "    lst_of_rating.append(rating.get_text())\n",
    "    if genre is not None:\n",
    "        lst_of_genre.append(genre.get_text())\n",
    "    else:\n",
    "        lst_of_genre.append(None)\n",
    "        \n",
    "\n",
    "print('lst_of_tomatometerScore ',lst_of_tomatometerScore)\n",
    "print('lst of audienceScore ',lst_of_audienceScore)\n",
    "print('lst of lst_of_synopsis ',lst_of_synopsis)\n",
    "print('lst of lst_of_genre ',lst_of_genre)\n",
    "print('lst of lst_of_rating ',lst_of_rating)\n",
    "\n",
    "\n",
    "\n",
    "\n"
   ]
  },
  {
   "cell_type": "code",
   "execution_count": null,
   "metadata": {},
   "outputs": [],
   "source": []
  }
 ],
 "metadata": {
  "kernelspec": {
   "display_name": "Python 3",
   "language": "python",
   "name": "python3"
  },
  "language_info": {
   "codemirror_mode": {
    "name": "ipython",
    "version": 3
   },
   "file_extension": ".py",
   "mimetype": "text/x-python",
   "name": "python",
   "nbconvert_exporter": "python",
   "pygments_lexer": "ipython3",
   "version": "3.8.8"
  }
 },
 "nbformat": 4,
 "nbformat_minor": 2
}
